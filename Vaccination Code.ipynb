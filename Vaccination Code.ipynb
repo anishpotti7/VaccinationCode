{
 "cells": [
  {
   "cell_type": "code",
   "execution_count": 14,
   "id": "ac8a6cda",
   "metadata": {
    "scrolled": true
   },
   "outputs": [
    {
     "name": "stdout",
     "output_type": "stream",
     "text": [
      "Population: 5\n",
      "Enter the vaccination coverage percentage (0-100%): 100\n"
     ]
    }
   ],
   "source": [
    "# percentage vaccinated \n",
    "total_population = int(input(\"Population: \"))\n",
    "vaccination_coverage = float(input(\"Enter the vaccination coverage percentage (0-100%): \"))\n",
    "vaccinated = (vaccination_coverage / 100) * total_population "
   ]
  },
  {
   "cell_type": "code",
   "execution_count": 15,
   "id": "49b3dcf1",
   "metadata": {
    "scrolled": true
   },
   "outputs": [
    {
     "name": "stdout",
     "output_type": "stream",
     "text": [
      "Herd immunity is likely achieved.\n"
     ]
    }
   ],
   "source": [
    "# herd immunity\n",
    "herd_immunity = 1 - (1/4.79)\n",
    "\n",
    "if vaccinated >= herd_immunity * total_population: \n",
    "    print(\"Herd immunity is likely achieved.\")\n",
    "else: \n",
    "    print(\"Herd immunity is not likely to be achieved.\")"
   ]
  },
  {
   "cell_type": "code",
   "execution_count": 16,
   "id": "4cb7f54d",
   "metadata": {},
   "outputs": [
    {
     "name": "stdout",
     "output_type": "stream",
     "text": [
      "0.791231732776618\n"
     ]
    }
   ],
   "source": [
    "print(herd_immunity)"
   ]
  },
  {
   "cell_type": "code",
   "execution_count": null,
   "id": "bdce29f4",
   "metadata": {},
   "outputs": [],
   "source": []
  }
 ],
 "metadata": {
  "kernelspec": {
   "display_name": "Python 3 (ipykernel)",
   "language": "python",
   "name": "python3"
  },
  "language_info": {
   "codemirror_mode": {
    "name": "ipython",
    "version": 3
   },
   "file_extension": ".py",
   "mimetype": "text/x-python",
   "name": "python",
   "nbconvert_exporter": "python",
   "pygments_lexer": "ipython3",
   "version": "3.11.4"
  }
 },
 "nbformat": 4,
 "nbformat_minor": 5
}
